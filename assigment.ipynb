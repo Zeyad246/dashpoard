{
 "cells": [
  {
   "cell_type": "code",
   "execution_count": 23,
   "id": "110bf33f-9ab8-45fd-9f3d-efa2d8082d50",
   "metadata": {},
   "outputs": [],
   "source": [
    "import streamlit as  st\n",
    "import pandas as pd \n",
    "import plotly.express as px"
   ]
  },
  {
   "cell_type": "code",
   "execution_count": 24,
   "id": "a38467a3-abea-43b7-a995-052dcea275cb",
   "metadata": {},
   "outputs": [],
   "source": [
    "df=pd.read_csv('Bikes.csv')"
   ]
  },
  {
   "cell_type": "code",
   "execution_count": 61,
   "id": "07f33321-ba06-43b2-8b53-b6937adf225e",
   "metadata": {},
   "outputs": [
    {
     "name": "stdout",
     "output_type": "stream",
     "text": [
      "Overwriting app1.py\n"
     ]
    }
   ],
   "source": [
    "%%writefile app1.py\n",
    "import streamlit as  st\n",
    "import pandas as pd \n",
    "import plotly.express as px\n",
    "data=pd.read_csv('bike_1.csv')\n",
    "st.set_page_config(layout='wide')\n",
    "tab1 , tab2 , tab3 , tab4 , tab5=st.tabs(['season' , 'profit' , 'registered and casual','rental','work'])\n",
    "with tab1:\n",
    "    col1 , col2 ,col3=st.columns(3)\n",
    "    with col1:\n",
    "       st.plotly_chart(px.pie(data_frame=data , names='season', values='hour').update_traces(textinfo='label+value+percent'),key=1)\n",
    "    with col2:\n",
    "        st.plotly_chart(px.histogram(data_frame=data , x='season' , y='rented_bikes_count' , text_auto=True , title=' count rental bike  for each season' ),key=2)\n",
    "    with col3:\n",
    "        st.plotly_chart(px.pie(data_frame=data , names='day_period' , values='rented_bikes_count' , title=' period it has been rented').update_traces(textinfo='label+value+percent'),key=3)\n",
    "with tab2:\n",
    "    col1,col2,col3=st.columns(3)\n",
    "    with col1:\n",
    "        st.plotly_chart(px.histogram(data_frame=data , x='Profit' , y='season' , text_auto=True , title='The highest profit in the season' ),key=4)\n",
    "    with col2:\n",
    "         st.plotly_chart(px.histogram(data_frame=data, x= 'year' ,y='Profit', color='year' , text_auto=True , title='The highest year in the profit'),key=5)\n",
    "    with col3:\n",
    "        st.plotly_chart(px.histogram(data_frame=data , x='month_name',y='rented_bikes_count',text_auto='true',title='rental rates each month'),key=6)\n",
    "with tab3:\n",
    "    col1,col2,col3=st.columns(3)\n",
    "    with col1:\n",
    "        st.plotly_chart(px.pie(data_frame=data , names='season', values='registered',title='Percentage of those registered in each season').update_traces(textinfo='label+value+percent'),key=7)\n",
    "    with col2:\n",
    "        st.plotly_chart(px.pie(data_frame=data , names='season', values='casual',title='Percentage of those  not registered in each season').update_traces(textinfo='label+value+percent'),key=8)\n",
    "    with col3:\n",
    "        st.plotly_chart(px.histogram(data_frame=data , x=['registered' , 'casual'] , histfunc='sum'),key=9)\n",
    "with tab4:\n",
    "    col1,col2,col3,col4=st.columns(4)\n",
    "    with col1:\n",
    "        st.plotly_chart(px.histogram(data_frame=data , x='season' , y='rented_bikes_count' , text_auto=True , title=' count rental bike  for each season' ),key=10)\n",
    "    with col2:\n",
    "        st.plotly_chart(px.histogram(data_frame=data , x='month_name',y='rented_bikes_count',text_auto='true',title='rental rates each month'),key=11)\n",
    "    with col3:\n",
    "        st.plotly_chart(px.histogram(data_frame=data , x='day_name' , y='rented_bikes_count' ,text_auto=True , title='Highest renting bikes for any day'),key=12)\n",
    "    with col4:\n",
    "        st.plotly_chart(px.pie(data_frame=data , names='day_period' , values='rented_bikes_count' , title=' period it has been rented').update_traces(textinfo='label+value+percent'),key=13)\n",
    "with tab5:\n",
    "    st.plotly_chart(px.histogram(data_frame=data , x='workingDay' , title='workingDay'),key=14)\n",
    "    "
   ]
  },
  {
   "cell_type": "code",
   "execution_count": 62,
   "id": "71808511-8cb8-4010-b466-eeb0763d484f",
   "metadata": {},
   "outputs": [
    {
     "name": "stdout",
     "output_type": "stream",
     "text": [
      "^C\n"
     ]
    }
   ],
   "source": [
    "! streamlit run app1.py"
   ]
  },
  {
   "cell_type": "code",
   "execution_count": null,
   "id": "350e8ea1-b737-4b1c-90de-41b94a43afc6",
   "metadata": {},
   "outputs": [],
   "source": []
  }
 ],
 "metadata": {
  "kernelspec": {
   "display_name": "Python 3 (ipykernel)",
   "language": "python",
   "name": "python3"
  },
  "language_info": {
   "codemirror_mode": {
    "name": "ipython",
    "version": 3
   },
   "file_extension": ".py",
   "mimetype": "text/x-python",
   "name": "python",
   "nbconvert_exporter": "python",
   "pygments_lexer": "ipython3",
   "version": "3.12.0"
  }
 },
 "nbformat": 4,
 "nbformat_minor": 5
}
